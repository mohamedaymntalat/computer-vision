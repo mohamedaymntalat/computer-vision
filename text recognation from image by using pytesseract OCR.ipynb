{
 "cells": [
  {
   "cell_type": "code",
   "execution_count": 1,
   "id": "04959c98",
   "metadata": {},
   "outputs": [
    {
     "name": "stdout",
     "output_type": "stream",
     "text": [
      "Collecting pytesseract\n",
      "  Downloading pytesseract-0.3.10-py3-none-any.whl.metadata (11 kB)\n",
      "Requirement already satisfied: packaging>=21.3 in c:\\users\\moham\\anaconda3\\lib\\site-packages (from pytesseract) (23.1)\n",
      "Requirement already satisfied: Pillow>=8.0.0 in c:\\users\\moham\\anaconda3\\lib\\site-packages (from pytesseract) (10.2.0)\n",
      "Downloading pytesseract-0.3.10-py3-none-any.whl (14 kB)\n",
      "Installing collected packages: pytesseract\n",
      "Successfully installed pytesseract-0.3.10\n"
     ]
    }
   ],
   "source": [
    "!pip install pytesseract"
   ]
  },
  {
   "cell_type": "code",
   "execution_count": 2,
   "id": "1fd062e6-15c9-4ab2-96be-9216d66e237a",
   "metadata": {},
   "outputs": [],
   "source": [
    "import cv2\n",
    "import pytesseract"
   ]
  },
  {
   "cell_type": "code",
   "execution_count": 15,
   "id": "4d5d42b2-8e0e-4f47-b79c-45f22ca0dc94",
   "metadata": {},
   "outputs": [],
   "source": [
    "pytesseract.pytesseract.tesseract_cmd = r\"C:\\Program Files\\Tesseract-OCR\\tesseract.exe\""
   ]
  },
  {
   "cell_type": "code",
   "execution_count": 28,
   "id": "4c522a1c-23c9-44e3-9dae-55014ceda1bc",
   "metadata": {},
   "outputs": [],
   "source": [
    "img = cv2.imread(\"ocr 1st.jpg\")\n",
    "img = cv2.resize(img,None , fx = 0.45,fy=0.45) #shrink\n",
    "gray = cv2.cvtColor(img,cv2.COLOR_BGR2GRAY)\n",
    "thresh = cv2.adaptiveThreshold(gray,255,cv2.ADAPTIVE_THRESH_GAUSSIAN_C,cv2.THRESH_BINARY,85,13)"
   ]
  },
  {
   "cell_type": "code",
   "execution_count": 29,
   "id": "7f52110f-d711-48c3-a9d0-6d27607a9355",
   "metadata": {},
   "outputs": [
    {
     "name": "stdout",
     "output_type": "stream",
     "text": [
      "ras”\n",
      "\n",
      "In ancient Egypt dwelt the great ‘Adepts and Masters who\n",
      "\n",
      "have never been surpassed, and who seldom have been equaled,\n",
      "during the centuries that have taken their processional flight\n",
      "since the days of the Great Hermes. In Egypt was located the\n",
      "Great Lodge of Lodges of the Mystics. At the doors of her Tem-\n",
      "ples entered the Neophytes who afterward, as Hierophants, Ad-\n",
      "eps and Masters, traveled ro the four comes of the earth,\n",
      "carrying with them the precious knowledge which there\n",
      "ready, anxious, and willing to pass on to those who were ready to\n",
      "recive the same. All students of the Occult recognize the debt\n",
      "chat they owe to these venerable Masters ofthat ancient land,\n",
      "But among these great Masters of Ancient Egypt there\n",
      "once dwelt one of whom Masters hailed as “The Master of\n",
      "Masters.” This man, if “man” indeed he was, dwelt in Egypt in\n",
      "the earliest days. He was known as Hermes Trismegistus. He\n",
      "was the father of the Occult Wisdom; the founder of Astrol-\n",
      "ogys the discoverer of Alchemy. The details of his life story ae\n",
      "lost to history, owing to the lapse of the years, though several\n",
      "of the ancient countries disputed with each other in their\n",
      "claims to the honor of having furnished his birthplace—and\n",
      "this thousands of years ago. The date of his sojourn in Egypt\n",
      "in that his last incarnation on this planet, is not now known,\n",
      "but it has been fixed at the early days of the oldest dynasties of\n",
      "Egypt—long before the days of Moses. The best authorities te-\n",
      "gard him as a contemporary of Abraham, and some of the Jew-\n",
      "ish traditions go so far as to claim that Abraham acquired 4\n",
      "portion of his mystic knowledge from Hermes himself.\n",
      "\n",
      "8\n",
      "\n"
     ]
    }
   ],
   "source": [
    "text = pytesseract.image_to_string(img)\n",
    "print(text)"
   ]
  },
  {
   "cell_type": "code",
   "execution_count": 32,
   "id": "4006f0f3-b201-4300-b6b6-b60b77d6f974",
   "metadata": {},
   "outputs": [],
   "source": [
    "cv2.imshow(\"pho\",thresh)\n",
    "cv2.waitKey(0)\n",
    "cv2.destroyAllWindows()"
   ]
  },
  {
   "cell_type": "code",
   "execution_count": null,
   "id": "a7c51b2e-4dc1-473e-a3a7-22fc7b4f6e6e",
   "metadata": {},
   "outputs": [],
   "source": []
  }
 ],
 "metadata": {
  "kernelspec": {
   "display_name": "Python 3 (ipykernel)",
   "language": "python",
   "name": "python3"
  },
  "language_info": {
   "codemirror_mode": {
    "name": "ipython",
    "version": 3
   },
   "file_extension": ".py",
   "mimetype": "text/x-python",
   "name": "python",
   "nbconvert_exporter": "python",
   "pygments_lexer": "ipython3",
   "version": "3.11.7"
  }
 },
 "nbformat": 4,
 "nbformat_minor": 5
}

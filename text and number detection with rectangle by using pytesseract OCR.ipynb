{
 "cells": [
  {
   "cell_type": "markdown",
   "id": "426c9b46-b2af-4029-a59c-cdf6f4c2284b",
   "metadata": {},
   "source": [
    "## LETTERS"
   ]
  },
  {
   "cell_type": "code",
   "execution_count": null,
   "id": "50d1d650-c571-4a72-87ae-859bb5e52ba9",
   "metadata": {},
   "outputs": [],
   "source": [
    "import cv2\n",
    "import pytesseract\n",
    "pytesseract.pytesseract.tesseract_cmd = r\"C:\\Program Files\\Tesseract-OCR\\tesseract.exe\""
   ]
  },
  {
   "cell_type": "code",
   "execution_count": 11,
   "id": "18315ff1-4025-44e7-aaaf-6fe9e85e1585",
   "metadata": {},
   "outputs": [],
   "source": [
    "img = cv2.imread(\"text_num_OCR.png\")\n",
    "#img = cv2.resize(img,None, fx = 0.5,fy=0.5)\n",
    "Himg,Wimg,_ = img.shape\n",
    "boxes = pytesseract.image_to_boxes(img)\n",
    "#print(boxes)"
   ]
  },
  {
   "cell_type": "code",
   "execution_count": 9,
   "id": "112e8843-b181-4695-87e8-c8b8246ef838",
   "metadata": {},
   "outputs": [],
   "source": [
    "for b in boxes.splitlines():\n",
    "    b = b.split(\" \")\n",
    "    #print(b)\n",
    "    x,y,w,h = int(b[1]),int(b[2]),int(b[3]),int(b[4])\n",
    "    #print(b)\n",
    "    cv2.rectangle(img,(x,Himg-y),(w,Himg-h),(0,255,0),3)\n",
    "    cv2.putText(img,b[0],(x,Himg-y+25),cv2.FONT_HERSHEY_COMPLEX,1,(0,0,255),3)"
   ]
  },
  {
   "cell_type": "code",
   "execution_count": 10,
   "id": "97f686e4-0ef6-467c-9f07-f4010c5c7dc1",
   "metadata": {},
   "outputs": [],
   "source": [
    "cv2.imshow(\"pho\",img)\n",
    "cv2.waitKey(0)\n",
    "cv2.destroyAllWindows()"
   ]
  },
  {
   "cell_type": "markdown",
   "id": "25767285-c504-4709-8c6b-98a38cb8c316",
   "metadata": {},
   "source": [
    "## words"
   ]
  },
  {
   "cell_type": "code",
   "execution_count": 12,
   "id": "3eef02d6-229e-4563-8827-748af473bff2",
   "metadata": {},
   "outputs": [
    {
     "name": "stdout",
     "output_type": "stream",
     "text": [
      "level\tpage_num\tblock_num\tpar_num\tline_num\tword_num\tleft\ttop\twidth\theight\tconf\ttext\n",
      "1\t1\t0\t0\t0\t0\t0\t0\t1462\t675\t-1\t\n",
      "2\t1\t1\t0\t0\t0\t323\t170\t788\t299\t-1\t\n",
      "3\t1\t1\t1\t0\t0\t323\t170\t788\t299\t-1\t\n",
      "4\t1\t1\t1\t1\t0\t470\t170\t490\t55\t-1\t\n",
      "5\t1\t1\t1\t1\t1\t470\t170\t225\t55\t96.469261\tAhmed\n",
      "5\t1\t1\t1\t1\t2\t726\t170\t234\t55\t66.837502\tIbrahim\n",
      "4\t1\t1\t1\t2\t0\t323\t255\t788\t63\t-1\t\n",
      "5\t1\t1\t1\t2\t1\t323\t262\t283\t56\t96.667336\tcomputer\n",
      "5\t1\t1\t1\t2\t2\t624\t258\t163\t48\t96.169006\tvision\n",
      "5\t1\t1\t1\t2\t3\t812\t255\t102\t51\t95.501137\tand\n",
      "5\t1\t1\t1\t2\t4\t941\t258\t170\t60\t95.360397\timage\n",
      "4\t1\t1\t1\t3\t0\t565\t338\t307\t60\t-1\t\n",
      "5\t1\t1\t1\t3\t1\t565\t338\t307\t60\t96.187469\tprocessing\n",
      "4\t1\t1\t1\t4\t0\t366\t416\t704\t53\t-1\t\n",
      "5\t1\t1\t1\t4\t1\t366\t416\t315\t53\t94.314003\t1345678\n",
      "5\t1\t1\t1\t4\t2\t716\t416\t267\t42\t82.522812\t9101112\n",
      "5\t1\t1\t1\t4\t3\t1013\t416\t57\t42\t82.522812\t13\n",
      "\n"
     ]
    }
   ],
   "source": [
    "boxes2 = pytesseract.image_to_data(img)\n",
    "print(boxes2)"
   ]
  },
  {
   "cell_type": "code",
   "execution_count": 13,
   "id": "bb8e6cd9-d7ac-42ea-9a9f-4de278b8fffd",
   "metadata": {},
   "outputs": [],
   "source": [
    "for x,b in enumerate(boxes2.splitlines()):\n",
    "    if x != 0:\n",
    "        b = b.split()\n",
    "        if len(b) ==12:\n",
    "            x,y,w,h = int(b[6]),int(b[7]),int(b[8]),int(b[9])\n",
    "            cv2.rectangle(img,(x,y),(x+w,y+h),(0,255,0),3)\n",
    "            cv2.putText(img,b[11],(x,y),cv2.FONT_HERSHEY_COMPLEX,1,3)\n",
    "        "
   ]
  },
  {
   "cell_type": "code",
   "execution_count": 14,
   "id": "3ac150c1-e4c3-4e10-868d-53583f8c789f",
   "metadata": {},
   "outputs": [],
   "source": [
    "cv2.imshow(\"pho\",img)\n",
    "cv2.waitKey(0)\n",
    "cv2.destroyAllWindows()"
   ]
  },
  {
   "cell_type": "code",
   "execution_count": null,
   "id": "a92a0e9c-e510-445d-be0c-fa1435fd1814",
   "metadata": {},
   "outputs": [],
   "source": []
  }
 ],
 "metadata": {
  "kernelspec": {
   "display_name": "Python 3 (ipykernel)",
   "language": "python",
   "name": "python3"
  },
  "language_info": {
   "codemirror_mode": {
    "name": "ipython",
    "version": 3
   },
   "file_extension": ".py",
   "mimetype": "text/x-python",
   "name": "python",
   "nbconvert_exporter": "python",
   "pygments_lexer": "ipython3",
   "version": "3.11.7"
  }
 },
 "nbformat": 4,
 "nbformat_minor": 5
}

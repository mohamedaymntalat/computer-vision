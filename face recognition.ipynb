{
 "cells": [
  {
   "cell_type": "code",
   "execution_count": 2,
   "id": "29f4f375-5ec1-4f6c-8f04-5c7315e6dfdf",
   "metadata": {},
   "outputs": [],
   "source": [
    "import cv2\n",
    "import glob\n",
    "import os"
   ]
  },
  {
   "cell_type": "code",
   "execution_count": null,
   "id": "033a0ec0-33fe-4588-a261-c62f6d7d90c5",
   "metadata": {},
   "outputs": [],
   "source": [
    "class facerecg:\n",
    "    def __init__(self):\n",
    "        self.known_face_encoding = []\n",
    "        self.known_names = []\n",
    "        self.reazis = 0.5\n",
    "    def load_image(self,image_path):\n",
    "        images_path = (r\"C:\\Users\\moham\\Desktop\\computer vision\\facereco\") \n",
    "        image_path = glob.glob(os.path.join(images_path,\"*.*\"))\n",
    "        #print(\"{} nom of images \".format(len(image_path)))\n",
    "        for imge in image_path:\n",
    "            img = cv2.imread(imge)\n",
    "            rgb_img = cv2.cvtColor(img,cv2.COLOR_BGR2RGB)\n",
    "            base_name = os.basename(image_path)\n",
    "            (filename,ext) = os.path.splitext(base_name)\n",
    "            img_encoding = face_recognition.face_encoding(rgb_img)[0]\n",
    "            self.known_face_encoding.append(img_encoding)\n",
    "            self.known_names.append(filename)\n",
    "        print(\"ENcoding Done\")\n",
    "\n",
    "    def detect_known(seld,frame):\n",
    "        small_frame =\n",
    "            \n",
    "            \n",
    "            \n",
    "            \n",
    "            \n",
    "            "
   ]
  },
  {
   "cell_type": "code",
   "execution_count": 18,
   "id": "81841dc6-477b-4383-99ac-4df2fa7ee14b",
   "metadata": {},
   "outputs": [
    {
     "name": "stdout",
     "output_type": "stream",
     "text": [
      "['adham.jpg', 'MESSI.jpg', 'mohamed.jpg', 'saud.jpg']\n",
      "4 nom of images \n"
     ]
    }
   ],
   "source": [
    "images_path = (r\"C:\\Users\\moham\\Desktop\\computer vision\\facereco\") \n",
    "image_path = glob.glob(os.path.join(images_path,\"*.*\"))\n",
    "base =[]\n",
    "for imge in image_path:\n",
    "    img = cv2.imread(imge)\n",
    "    #rgb_img = cv2.cvtColor(img,cv2.COLOR_BGR2RGB)\n",
    "    base_name = os.path.basename(imge)\n",
    "    base.append(base_name)\n",
    "print(base)\n",
    "print(\"{} nom of images \".format(len(image_path)))"
   ]
  },
  {
   "cell_type": "code",
   "execution_count": null,
   "id": "4df733ca-9f9e-4b05-86e0-c98c988e3561",
   "metadata": {},
   "outputs": [],
   "source": []
  }
 ],
 "metadata": {
  "kernelspec": {
   "display_name": "Python 3 (ipykernel)",
   "language": "python",
   "name": "python3"
  },
  "language_info": {
   "codemirror_mode": {
    "name": "ipython",
    "version": 3
   },
   "file_extension": ".py",
   "mimetype": "text/x-python",
   "name": "python",
   "nbconvert_exporter": "python",
   "pygments_lexer": "ipython3",
   "version": "3.11.7"
  }
 },
 "nbformat": 4,
 "nbformat_minor": 5
}

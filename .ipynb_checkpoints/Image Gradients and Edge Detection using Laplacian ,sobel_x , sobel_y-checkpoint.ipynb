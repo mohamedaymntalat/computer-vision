{
 "cells": [
  {
   "cell_type": "code",
   "execution_count": 5,
   "id": "421a8c04",
   "metadata": {},
   "outputs": [],
   "source": [
    "import cv2\n",
    "import numpy as np\n",
    "from matplotlib import pyplot as plt\n",
    "import os"
   ]
  },
  {
   "cell_type": "code",
   "execution_count": 17,
   "id": "6d003834",
   "metadata": {},
   "outputs": [],
   "source": [
    "img = cv2.imread(\"Sudoku.png\")\n",
    "img = cv2.resize(img,(512,512))\n",
    "\n",
    "lap = cv2.Laplacian(img ,cv2.CV_64F,ksize=3)\n",
    "lap =np.uint8(np.absolute(lap))\n",
    "\n",
    "\n",
    "sobel_x = cv2.Sobel(img ,cv2.CV_64F,1,0)\n",
    "sobel_y = cv2.Sobel(img,cv2.CV_64F,0,1)\n",
    "\n",
    "sobel_x = np.uint8(np.absolute(sobel_x))\n",
    "sobel_y = np.uint8(np.absolute(sobel_y))\n",
    "\n",
    "\n",
    "combine_sobel =cv2.bitwise_or(sobel_x,sobel_y)  #+\n",
    "\n",
    "\n",
    "cv2.imshow(\"lap\",lap)\n",
    "cv2.imshow(\"sobel_x\",sobel_x)\n",
    "cv2.imshow(\"sobel_y\",sobel_y)\n",
    "cv2.imshow(\"combine_sobel\",combine_sobel)\n",
    "\n",
    "\n",
    "cv2.waitKey(0)\n",
    "cv2.destroyAllWindows()\n"
   ]
  },
  {
   "cell_type": "code",
   "execution_count": null,
   "id": "17e66e42",
   "metadata": {},
   "outputs": [],
   "source": []
  }
 ],
 "metadata": {
  "kernelspec": {
   "display_name": "Python 3 (ipykernel)",
   "language": "python",
   "name": "python3"
  },
  "language_info": {
   "codemirror_mode": {
    "name": "ipython",
    "version": 3
   },
   "file_extension": ".py",
   "mimetype": "text/x-python",
   "name": "python",
   "nbconvert_exporter": "python",
   "pygments_lexer": "ipython3",
   "version": "3.9.12"
  }
 },
 "nbformat": 4,
 "nbformat_minor": 5
}
